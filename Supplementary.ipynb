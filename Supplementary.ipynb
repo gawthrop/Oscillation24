{
 "cells": [
  {
   "cell_type": "markdown",
   "id": "cd6c87ae-7d45-42ef-b613-2c05ef28817f",
   "metadata": {},
   "source": [
    "# Introduction\n",
    "This Jupyter notebook (Supplementary.ipynb) prints state equations and parameters for the three examples of the paper \"Analysis of Biochemical Oscillators Using Bond\n",
    "  Graphs and Linear Control Theory\" by Peter Gawthrop and Michael Pan:\n",
    "  \n",
    "- 3. Illustrative Example (system Toy)\n",
    "- 4. The Sel'kov Oscillator (system Selkov)\n",
    "- 5. The Repressilator\n",
    "\n",
    "The state equations are automatically generated from the bond graph.\n",
    "Following standard systems biology practice, the state equations are shown in two parts:\n",
    "\n",
    "- The state derivatives $\\dot{x}$ in terms of the reaction flows $v$.\n",
    "- The reaction flows $v$ in terms of the states $x$."
   ]
  },
  {
   "cell_type": "code",
   "execution_count": 1,
   "id": "93be4bc8-4db7-4d65-a8d5-9e0120804833",
   "metadata": {},
   "outputs": [],
   "source": [
    "# Display LaTeX\n",
    "import IPython.display as disp\n",
    "\n",
    "## Stoichiometric analysis\n",
    "import stoich as st\n",
    "\n",
    "## Data files\n",
    "import pickle\n",
    "\n",
    "# Allow output from within functions\n",
    "from IPython.core.interactiveshell import InteractiveShell\n",
    "InteractiveShell.ast_node_interactivity = \"all\"\n",
    "\n",
    "chemformula = False\n",
    "split = 10"
   ]
  },
  {
   "cell_type": "markdown",
   "id": "d192b3a5-20a4-4c43-9911-f86082d891da",
   "metadata": {},
   "source": [
    "# System Toy"
   ]
  },
  {
   "cell_type": "code",
   "execution_count": 2,
   "id": "4eae15ac-1b93-4150-964f-8d2a0b5481ab",
   "metadata": {},
   "outputs": [],
   "source": [
    "## Get data\n",
    "SysName = 'Toy'\n",
    "file = open(f'{SysName}.dat', 'rb')\n",
    "SavedData = pickle.load(file)\n",
    "file.close()\n",
    "\n",
    "Stoich = SavedData['Stoich']\n",
    "s = Stoich['s']\n",
    "sc = Stoich['sc']\n",
    "parameter = Stoich['parameter']"
   ]
  },
  {
   "cell_type": "markdown",
   "id": "8e31a089-3ccd-4bc6-97f7-10652570685b",
   "metadata": {},
   "source": [
    "## List of Reactions"
   ]
  },
  {
   "cell_type": "code",
   "execution_count": 3,
   "id": "56fa3f78-a429-4b28-9dd1-29a3356af23a",
   "metadata": {},
   "outputs": [
    {
     "data": {
      "text/latex": [
       "\\begin{align}\n",
       "fbAct + fbE0  &\\Leftrightarrow E1 + P \\\\\n",
       "2 E1 + decr1A  &\\Leftrightarrow 2 E1 + E2 \\\\\n",
       "E2  &\\Leftrightarrow decr1Zf \\\\\n",
       "2 E2 + decr2A  &\\Leftrightarrow 2 E2 + E3 \\\\\n",
       "E3  &\\Leftrightarrow decr2Zf \\\\\n",
       "2 E3 + decr3A  &\\Leftrightarrow 2 E3 + P \\\\\n",
       "P  &\\Leftrightarrow decr3Zf \n",
       "\\end{align}\n"
      ],
      "text/plain": [
       "<IPython.core.display.Latex object>"
      ]
     },
     "execution_count": 3,
     "metadata": {},
     "output_type": "execute_result"
    }
   ],
   "source": [
    "## Reactions\n",
    "disp.Latex(st.sprintrl(s,chemformula=chemformula,split=10,all=True))"
   ]
  },
  {
   "cell_type": "markdown",
   "id": "faf8508c-0cea-4c22-99f8-0baf02eaea38",
   "metadata": {},
   "source": [
    "## List of Flows $v$ as Function of States $x$"
   ]
  },
  {
   "cell_type": "code",
   "execution_count": 4,
   "id": "96c15331-bd4f-4ada-b45a-e09eac143209",
   "metadata": {},
   "outputs": [
    {
     "data": {
      "text/latex": [
       "\\begin{align}\n",
       "v_{fb r} &= \\kappa_{fb r} \\left(- K_{E1} K_{P} x_{E1} x_{P} + K_{fb Act} K_{fb E0} x_{fb Act} x_{fb E0}\\right)\\\\\n",
       "v_{decr1 r} &= K_{E1}^{2} \\kappa_{decr1 r} x_{E1}^{2} \\left(- K_{E2} x_{E2} + K_{decr1 A} x_{decr1 A}\\right)\\\\\n",
       "v_{decr1 rf} &= \\kappa_{decr1 rf} \\left(K_{E2} x_{E2} - K_{decr1 Zf} x_{decr1 Zf}\\right)\\\\\n",
       "v_{decr2 r} &= K_{E2}^{2} \\kappa_{decr2 r} x_{E2}^{2} \\left(- K_{E3} x_{E3} + K_{decr2 A} x_{decr2 A}\\right)\\\\\n",
       "v_{decr2 rf} &= \\kappa_{decr2 rf} \\left(K_{E3} x_{E3} - K_{decr2 Zf} x_{decr2 Zf}\\right)\\\\\n",
       "v_{decr3 r} &= K_{E3}^{2} \\kappa_{decr3 r} x_{E3}^{2} \\left(- K_{P} x_{P} + K_{decr3 A} x_{decr3 A}\\right)\\\\\n",
       "v_{decr3 rf} &= \\kappa_{decr3 rf} \\left(K_{P} x_{P} - K_{decr3 Zf} x_{decr3 Zf}\\right)\n",
       "\\end{align}\n"
      ],
      "text/plain": [
       "<IPython.core.display.Latex object>"
      ]
     },
     "execution_count": 4,
     "metadata": {},
     "output_type": "execute_result"
    }
   ],
   "source": [
    "## Flows\n",
    "disp.Latex(st.sprintvl(s))"
   ]
  },
  {
   "cell_type": "markdown",
   "id": "5550b280-107e-4c9b-8cef-998695dd48c6",
   "metadata": {},
   "source": [
    "## List of State Derivatives $\\dot{x}$ as Function of Flows $v$."
   ]
  },
  {
   "cell_type": "code",
   "execution_count": 5,
   "id": "0f0eb609-8887-4364-898e-7466485c60b7",
   "metadata": {
    "jupyter": {
     "source_hidden": true
    }
   },
   "outputs": [
    {
     "data": {
      "text/latex": [
       "\\begin{align}\n",
       "\\dot{x}_{E1} &= v_{fbr}\\\\\n",
       "\\dot{x}_{E2} &= v_{decr1r} -  v_{decr1rf}\\\\\n",
       "\\dot{x}_{E3} &= v_{decr2r} -  v_{decr2rf}\n",
       "\\end{align}\n"
      ],
      "text/plain": [
       "<IPython.core.display.Latex object>"
      ]
     },
     "execution_count": 5,
     "metadata": {},
     "output_type": "execute_result"
    }
   ],
   "source": [
    "## State equations\n",
    "eqns = st.sprintdxl(s,sc)\n",
    "disp.Latex(eqns)"
   ]
  },
  {
   "cell_type": "markdown",
   "id": "937108ce-00f4-4a87-a733-e35dbcdeffba",
   "metadata": {},
   "source": [
    "## List of Parameters."
   ]
  },
  {
   "cell_type": "code",
   "execution_count": 6,
   "id": "af7abab4-3846-4335-85a2-5d0300c9d498",
   "metadata": {},
   "outputs": [
    {
     "data": {
      "text/latex": [
       "\\begin{align}\n",
       "K_{fbAct} &= 1\\\\\n",
       "K_{decr1Zf} &= 1e-06\\\\\n",
       "\\kappa_{decr1r} &= 1\\\\\n",
       "\\kappa_{decr1rf} &= 10\\\\\n",
       "K_{decr1A} &= 100\\\\\n",
       "K_{E1} &= 1\\\\\n",
       "K_{decr2Zf} &= 1e-06\\\\\n",
       "\\kappa_{decr2r} &= 1\\\\\n",
       "\\kappa_{decr2rf} &= 10\\\\\n",
       "K_{decr2A} &= 100\n",
       "\\end{align}\n",
       "\\begin{align}\n",
       "K_{E2} &= 1\\\\\n",
       "K_{decr3Zf} &= 1e-06\\\\\n",
       "\\kappa_{decr3r} &= 1\\\\\n",
       "\\kappa_{decr3rf} &= 10\\\\\n",
       "K_{decr3A} &= 100\\\\\n",
       "K_{E3} &= 1\n",
       "\\end{align}\n"
      ],
      "text/plain": [
       "<IPython.core.display.Latex object>"
      ]
     },
     "execution_count": 6,
     "metadata": {},
     "output_type": "execute_result"
    }
   ],
   "source": [
    "## Parameters\n",
    "pars = st.sprintparl(parameter)\n",
    "disp.Latex(pars)"
   ]
  },
  {
   "cell_type": "markdown",
   "id": "c7a33a4d-44d2-49e0-92a9-41f6128d9ad7",
   "metadata": {},
   "source": [
    "# System Selkov"
   ]
  },
  {
   "cell_type": "code",
   "execution_count": 7,
   "id": "ed80277f-b3c5-4403-bde0-de34d84dda27",
   "metadata": {},
   "outputs": [],
   "source": [
    "## Get data\n",
    "SysName = 'Selkov'\n",
    "file = open(f'{SysName}.dat', 'rb')\n",
    "SavedData = pickle.load(file)\n",
    "file.close()\n",
    "\n",
    "Stoich = SavedData['Stoich']\n",
    "s = Stoich['s']\n",
    "sc = Stoich['sc']\n",
    "parameter = Stoich['parameter']"
   ]
  },
  {
   "cell_type": "markdown",
   "id": "61d9194e-5247-40ac-9504-6494760385a6",
   "metadata": {},
   "source": [
    "## List of Reactions"
   ]
  },
  {
   "cell_type": "code",
   "execution_count": 8,
   "id": "78b61433-2074-42b9-9a86-873727677fdc",
   "metadata": {},
   "outputs": [
    {
     "data": {
      "text/latex": [
       "\\begin{align}\n",
       "2 P + selkovPFK  &\\Leftrightarrow selkovE \\\\\n",
       "selkovATP + selkovE  &\\Leftrightarrow selkovC \\\\\n",
       "selkovC  &\\Leftrightarrow P + selkovE + selkovZ \\\\\n",
       "P  &\\Leftrightarrow selkovZf \\\\\n",
       "selkovATP0  &\\Leftrightarrow selkovATP \n",
       "\\end{align}\n"
      ],
      "text/plain": [
       "<IPython.core.display.Latex object>"
      ]
     },
     "execution_count": 8,
     "metadata": {},
     "output_type": "execute_result"
    }
   ],
   "source": [
    "## Reactions\n",
    "disp.Latex(st.sprintrl(s,chemformula=chemformula,all=True))"
   ]
  },
  {
   "cell_type": "markdown",
   "id": "82e41d72-d198-4c2c-9594-4cac1ecb8b7b",
   "metadata": {},
   "source": [
    "## List of Flows $v$ as Function of States $x$"
   ]
  },
  {
   "cell_type": "code",
   "execution_count": 9,
   "id": "72919258-86ff-435f-8c20-e5a55fe9a48c",
   "metadata": {},
   "outputs": [
    {
     "data": {
      "text/latex": [
       "\\begin{align}\n",
       "v_{selkov r0} &= \\kappa_{selkov r0} \\left(K_{P}^{2} K_{selkov PFK} x_{P}^{2} x_{selkov PFK} - K_{selkov E} x_{selkov E}\\right)\\\\\n",
       "v_{selkov r1} &= \\kappa_{selkov r1} \\left(K_{selkov ATP} K_{selkov E} x_{selkov ATP} x_{selkov E} - K_{selkov C} x_{selkov C}\\right)\\\\\n",
       "v_{selkov r2} &= \\kappa_{selkov r2} \\left(- K_{P} K_{selkov E} K_{selkov Z} x_{P} x_{selkov E} x_{selkov Z} + K_{selkov C} x_{selkov C}\\right)\\\\\n",
       "v_{selkov rf} &= \\kappa_{selkov rf} \\left(K_{P} x_{P} - K_{selkov Zf} x_{selkov Zf}\\right)\\\\\n",
       "v_{selkov rs} &= \\kappa_{selkov rs} \\left(- K_{selkov ATP} x_{selkov ATP} + K_{selkov ATP0} x_{selkov ATP0}\\right)\n",
       "\\end{align}\n"
      ],
      "text/plain": [
       "<IPython.core.display.Latex object>"
      ]
     },
     "execution_count": 9,
     "metadata": {},
     "output_type": "execute_result"
    }
   ],
   "source": [
    "## Flows\n",
    "disp.Latex(st.sprintvl(s))"
   ]
  },
  {
   "cell_type": "markdown",
   "id": "424fee0c-c61c-412d-be51-cefdcb26132e",
   "metadata": {},
   "source": [
    "## List of State Derivatives $\\dot{x}$ as Function of Flows $v$."
   ]
  },
  {
   "cell_type": "code",
   "execution_count": 10,
   "id": "443b8a12-d4fa-4f5d-bf05-435580b1eef7",
   "metadata": {},
   "outputs": [
    {
     "data": {
      "text/latex": [
       "\\begin{align}\n",
       "\\dot{x}_{selkovATP} &= -  v_{selkovr1} + v_{selkovrs}\\\\\n",
       "\\dot{x}_{selkovC} &= v_{selkovr1} -  v_{selkovr2}\\\\\n",
       "\\dot{x}_{selkovE} &= v_{selkovr0} -  v_{selkovr1} + v_{selkovr2}\\\\\n",
       "\\dot{x}_{selkovPFK} &= -  v_{selkovr0}\n",
       "\\end{align}\n"
      ],
      "text/plain": [
       "<IPython.core.display.Latex object>"
      ]
     },
     "execution_count": 10,
     "metadata": {},
     "output_type": "execute_result"
    }
   ],
   "source": [
    "## State equations\n",
    "eqns = st.sprintdxl(s,sc)\n",
    "disp.Latex(eqns)"
   ]
  },
  {
   "cell_type": "markdown",
   "id": "8a02083b-3343-4975-afdc-96624ee71a53",
   "metadata": {},
   "source": [
    "## List of Parameters."
   ]
  },
  {
   "cell_type": "code",
   "execution_count": 11,
   "id": "7d0c5eb7-0192-4aa0-b8d0-c4af1fcd843d",
   "metadata": {},
   "outputs": [
    {
     "data": {
      "text/latex": [
       "\\begin{align}\n",
       "K_{selkovZ} &= 1e-10\\\\\n",
       "K_{selkovZf} &= 1e-10\\\\\n",
       "\\kappa_{selkovr0} &= 1000\\\\\n",
       "\\kappa_{selkovr1} &= 1000\\\\\n",
       "\\kappa_{selkovr2} &= 1000\\\\\n",
       "\\kappa_{selkovrf} &= 10\\\\\n",
       "K_{selkovPFK} &= 1\\\\\n",
       "K_{selkovC} &= 1\\\\\n",
       "K_{selkovATP0} &= 1000\\\\\n",
       "\\kappa_{selkovrs} &= 0.0006\n",
       "\\end{align}\n"
      ],
      "text/plain": [
       "<IPython.core.display.Latex object>"
      ]
     },
     "execution_count": 11,
     "metadata": {},
     "output_type": "execute_result"
    }
   ],
   "source": [
    "## Parameters\n",
    "pars = st.sprintparl(parameter)\n",
    "disp.Latex(pars)"
   ]
  },
  {
   "cell_type": "markdown",
   "id": "1114db7e-3cb1-4116-99d6-e194f58ab248",
   "metadata": {},
   "source": [
    "# System Repressilator"
   ]
  },
  {
   "cell_type": "code",
   "execution_count": 12,
   "id": "b9783f60-c22d-4a33-a36a-808cbf626e49",
   "metadata": {},
   "outputs": [],
   "source": [
    "## Get data\n",
    "SysName = 'Repressilator'\n",
    "file = open(f'{SysName}.dat', 'rb')\n",
    "SavedData = pickle.load(file)\n",
    "file.close()\n",
    "\n",
    "Stoich = SavedData['Stoich']\n",
    "s = Stoich['s']\n",
    "sc = Stoich['sc']\n",
    "parameter = Stoich['parameter']"
   ]
  },
  {
   "cell_type": "markdown",
   "id": "b70443fa-1dd8-4c48-8bec-2c0065341c6d",
   "metadata": {},
   "source": [
    "## List of Reactions"
   ]
  },
  {
   "cell_type": "code",
   "execution_count": 13,
   "id": "0bb6e4f2-51cf-4301-b015-d0531488315f",
   "metadata": {},
   "outputs": [
    {
     "data": {
      "text/latex": [
       "\\begin{align}\n",
       "A + G1E  &\\Leftrightarrow G1EA \\\\\n",
       "G1EA  &\\Leftrightarrow G1E + G1M \\\\\n",
       "G1E + 2 P2  &\\Leftrightarrow G1EI \\\\\n",
       "G1EA + 2 P2  &\\Leftrightarrow G1EAI \\\\\n",
       "G1M + R  &\\Leftrightarrow G1C0 \\\\\n",
       "A + G1C0  &\\Leftrightarrow G1M + G1C1 \\\\\n",
       "A + G1C1  &\\Leftrightarrow G1C2 \\\\\n",
       "A + G1C2  &\\Leftrightarrow G1C3 \\\\\n",
       "A + G1C3  &\\Leftrightarrow G1C4 \\\\\n",
       "A + G1C4  &\\Leftrightarrow G1C5 \n",
       "\\end{align}\n",
       "\n",
       "\\begin{align}\n",
       "A + G1C5  &\\Leftrightarrow G1C6 \\\\\n",
       "A + G1C6  &\\Leftrightarrow G1C7 \\\\\n",
       "A + G1C7  &\\Leftrightarrow G1C8 \\\\\n",
       "G1C8  &\\Leftrightarrow R + P1 \\\\\n",
       "G1M  &\\Leftrightarrow G1XM \\\\\n",
       "P1  &\\Leftrightarrow G1XP \\\\\n",
       "A + G2E  &\\Leftrightarrow G2EA \\\\\n",
       "G2EA  &\\Leftrightarrow G2E + G2M \\\\\n",
       "G2E + 2 P3  &\\Leftrightarrow G2EI \\\\\n",
       "G2EA + 2 P3  &\\Leftrightarrow G2EAI \n",
       "\\end{align}\n",
       "\n",
       "\\begin{align}\n",
       "R + G2M  &\\Leftrightarrow G2C0 \\\\\n",
       "A + G2C0  &\\Leftrightarrow G2M + G2C1 \\\\\n",
       "A + G2C1  &\\Leftrightarrow G2C2 \\\\\n",
       "A + G2C2  &\\Leftrightarrow G2C3 \\\\\n",
       "A + G2C3  &\\Leftrightarrow G2C4 \\\\\n",
       "A + G2C4  &\\Leftrightarrow G2C5 \\\\\n",
       "A + G2C5  &\\Leftrightarrow G2C6 \\\\\n",
       "A + G2C6  &\\Leftrightarrow G2C7 \\\\\n",
       "A + G2C7  &\\Leftrightarrow G2C8 \\\\\n",
       "G2C8  &\\Leftrightarrow P2 + R \n",
       "\\end{align}\n",
       "\n",
       "\\begin{align}\n",
       "G2M  &\\Leftrightarrow G2XM \\\\\n",
       "P2  &\\Leftrightarrow G2XP \\\\\n",
       "A + G3E  &\\Leftrightarrow G3EA \\\\\n",
       "G3EA  &\\Leftrightarrow G3E + G3M \\\\\n",
       "2 P1 + G3E  &\\Leftrightarrow G3EI \\\\\n",
       "2 P1 + G3EA  &\\Leftrightarrow G3EAI \\\\\n",
       "R + G3M  &\\Leftrightarrow G3C0 \\\\\n",
       "A + G3C0  &\\Leftrightarrow G3M + G3C1 \\\\\n",
       "A + G3C1  &\\Leftrightarrow G3C2 \\\\\n",
       "A + G3C2  &\\Leftrightarrow G3C3 \n",
       "\\end{align}\n",
       "\n",
       "\\begin{align}\n",
       "A + G3C3  &\\Leftrightarrow G3C4 \\\\\n",
       "A + G3C4  &\\Leftrightarrow G3C5 \\\\\n",
       "A + G3C5  &\\Leftrightarrow G3C6 \\\\\n",
       "A + G3C6  &\\Leftrightarrow G3C7 \\\\\n",
       "A + G3C7  &\\Leftrightarrow G3C8 \\\\\n",
       "G3C8  &\\Leftrightarrow R + P3 \\\\\n",
       "G3M  &\\Leftrightarrow G3XM \\\\\n",
       "P3  &\\Leftrightarrow G3XP \n",
       "\\end{align}\n"
      ],
      "text/plain": [
       "<IPython.core.display.Latex object>"
      ]
     },
     "execution_count": 13,
     "metadata": {},
     "output_type": "execute_result"
    }
   ],
   "source": [
    "## Reactions\n",
    "disp.Latex(st.sprintrl(s,chemformula=chemformula,split=split,all=True))"
   ]
  },
  {
   "cell_type": "markdown",
   "id": "c11914bc-343f-41d1-a09a-1d5e7a9d6c58",
   "metadata": {},
   "source": [
    "## List of Flows $v$ as Function of States $x$"
   ]
  },
  {
   "cell_type": "code",
   "execution_count": 14,
   "id": "e537f233-acc2-4797-b297-065f8f269e55",
   "metadata": {},
   "outputs": [
    {
     "data": {
      "text/latex": [
       "\\begin{align}\n",
       "v_{G1 Tc1} &= \\kappa_{G1 Tc1} \\left(K_{A} K_{G1 E} x_{A} x_{G1 E} - K_{G1 EA} x_{G1 EA}\\right)\\\\\n",
       "v_{G1 Tc2} &= \\kappa_{G1 Tc2} \\left(- K_{G1 E} K_{G1 M} x_{G1 E} x_{G1 M} + K_{G1 EA} x_{G1 EA}\\right)\\\\\n",
       "v_{G1 Tc3} &= \\kappa_{G1 Tc3} \\left(K_{G1 E} K_{P2}^{2} x_{G1 E} x_{P2}^{2} - K_{G1 EI} x_{G1 EI}\\right)\\\\\n",
       "v_{G1 Tc4} &= \\kappa_{G1 Tc4} \\left(K_{G1 EA} K_{P2}^{2} x_{G1 EA} x_{P2}^{2} - K_{G1 EAI} x_{G1 EAI}\\right)\\\\\n",
       "v_{G1 rb} &= \\kappa_{G1 rb} \\left(- K_{G1 C0} x_{G1 C0} + K_{G1 M} K_{R} x_{G1 M} x_{R}\\right)\\\\\n",
       "v_{G1 r1} &= \\kappa_{G1 r1} \\left(K_{A} K_{G1 C0} x_{A} x_{G1 C0} - K_{G1 C1} K_{G1 M} x_{G1 C1} x_{G1 M}\\right)\\\\\n",
       "v_{G1 r2} &= \\kappa_{G1 r2} \\left(K_{A} K_{G1 C1} x_{A} x_{G1 C1} - K_{G1 C2} x_{G1 C2}\\right)\\\\\n",
       "v_{G1 r3} &= \\kappa_{G1 r3} \\left(K_{A} K_{G1 C2} x_{A} x_{G1 C2} - K_{G1 C3} x_{G1 C3}\\right)\\\\\n",
       "v_{G1 r4} &= \\kappa_{G1 r4} \\left(K_{A} K_{G1 C3} x_{A} x_{G1 C3} - K_{G1 C4} x_{G1 C4}\\right)\\\\\n",
       "v_{G1 r5} &= \\kappa_{G1 r5} \\left(K_{A} K_{G1 C4} x_{A} x_{G1 C4} - K_{G1 C5} x_{G1 C5}\\right)\n",
       "\\end{align}\n",
       "\\begin{align}\n",
       "v_{G1 r6} &= \\kappa_{G1 r6} \\left(K_{A} K_{G1 C5} x_{A} x_{G1 C5} - K_{G1 C6} x_{G1 C6}\\right)\\\\\n",
       "v_{G1 r7} &= \\kappa_{G1 r7} \\left(K_{A} K_{G1 C6} x_{A} x_{G1 C6} - K_{G1 C7} x_{G1 C7}\\right)\\\\\n",
       "v_{G1 r8} &= \\kappa_{G1 r8} \\left(K_{A} K_{G1 C7} x_{A} x_{G1 C7} - K_{G1 C8} x_{G1 C8}\\right)\\\\\n",
       "v_{G1 rt} &= \\kappa_{G1 rt} \\left(K_{G1 C8} x_{G1 C8} - K_{P1} K_{R} x_{P1} x_{R}\\right)\\\\\n",
       "v_{G1 degM} &= \\kappa_{G1 degM} \\left(K_{G1 M} x_{G1 M} - K_{G1 XM} x_{G1 XM}\\right)\\\\\n",
       "v_{G1 degP} &= \\kappa_{G1 degP} \\left(- K_{G1 XP} x_{G1 XP} + K_{P1} x_{P1}\\right)\\\\\n",
       "v_{G2 Tc1} &= \\kappa_{G2 Tc1} \\left(K_{A} K_{G2 E} x_{A} x_{G2 E} - K_{G2 EA} x_{G2 EA}\\right)\\\\\n",
       "v_{G2 Tc2} &= \\kappa_{G2 Tc2} \\left(- K_{G2 E} K_{G2 M} x_{G2 E} x_{G2 M} + K_{G2 EA} x_{G2 EA}\\right)\\\\\n",
       "v_{G2 Tc3} &= \\kappa_{G2 Tc3} \\left(K_{G2 E} K_{P3}^{2} x_{G2 E} x_{P3}^{2} - K_{G2 EI} x_{G2 EI}\\right)\\\\\n",
       "v_{G2 Tc4} &= \\kappa_{G2 Tc4} \\left(K_{G2 EA} K_{P3}^{2} x_{G2 EA} x_{P3}^{2} - K_{G2 EAI} x_{G2 EAI}\\right)\n",
       "\\end{align}\n",
       "\\begin{align}\n",
       "v_{G2 rb} &= \\kappa_{G2 rb} \\left(- K_{G2 C0} x_{G2 C0} + K_{G2 M} K_{R} x_{G2 M} x_{R}\\right)\\\\\n",
       "v_{G2 r1} &= \\kappa_{G2 r1} \\left(K_{A} K_{G2 C0} x_{A} x_{G2 C0} - K_{G2 C1} K_{G2 M} x_{G2 C1} x_{G2 M}\\right)\\\\\n",
       "v_{G2 r2} &= \\kappa_{G2 r2} \\left(K_{A} K_{G2 C1} x_{A} x_{G2 C1} - K_{G2 C2} x_{G2 C2}\\right)\\\\\n",
       "v_{G2 r3} &= \\kappa_{G2 r3} \\left(K_{A} K_{G2 C2} x_{A} x_{G2 C2} - K_{G2 C3} x_{G2 C3}\\right)\\\\\n",
       "v_{G2 r4} &= \\kappa_{G2 r4} \\left(K_{A} K_{G2 C3} x_{A} x_{G2 C3} - K_{G2 C4} x_{G2 C4}\\right)\\\\\n",
       "v_{G2 r5} &= \\kappa_{G2 r5} \\left(K_{A} K_{G2 C4} x_{A} x_{G2 C4} - K_{G2 C5} x_{G2 C5}\\right)\\\\\n",
       "v_{G2 r6} &= \\kappa_{G2 r6} \\left(K_{A} K_{G2 C5} x_{A} x_{G2 C5} - K_{G2 C6} x_{G2 C6}\\right)\\\\\n",
       "v_{G2 r7} &= \\kappa_{G2 r7} \\left(K_{A} K_{G2 C6} x_{A} x_{G2 C6} - K_{G2 C7} x_{G2 C7}\\right)\\\\\n",
       "v_{G2 r8} &= \\kappa_{G2 r8} \\left(K_{A} K_{G2 C7} x_{A} x_{G2 C7} - K_{G2 C8} x_{G2 C8}\\right)\\\\\n",
       "v_{G2 rt} &= \\kappa_{G2 rt} \\left(K_{G2 C8} x_{G2 C8} - K_{P2} K_{R} x_{P2} x_{R}\\right)\n",
       "\\end{align}\n",
       "\\begin{align}\n",
       "v_{G2 degM} &= \\kappa_{G2 degM} \\left(K_{G2 M} x_{G2 M} - K_{G2 XM} x_{G2 XM}\\right)\\\\\n",
       "v_{G2 degP} &= \\kappa_{G2 degP} \\left(- K_{G2 XP} x_{G2 XP} + K_{P2} x_{P2}\\right)\\\\\n",
       "v_{G3 Tc1} &= \\kappa_{G3 Tc1} \\left(K_{A} K_{G3 E} x_{A} x_{G3 E} - K_{G3 EA} x_{G3 EA}\\right)\\\\\n",
       "v_{G3 Tc2} &= \\kappa_{G3 Tc2} \\left(- K_{G3 E} K_{G3 M} x_{G3 E} x_{G3 M} + K_{G3 EA} x_{G3 EA}\\right)\\\\\n",
       "v_{G3 Tc3} &= \\kappa_{G3 Tc3} \\left(K_{G3 E} K_{P1}^{2} x_{G3 E} x_{P1}^{2} - K_{G3 EI} x_{G3 EI}\\right)\\\\\n",
       "v_{G3 Tc4} &= \\kappa_{G3 Tc4} \\left(K_{G3 EA} K_{P1}^{2} x_{G3 EA} x_{P1}^{2} - K_{G3 EAI} x_{G3 EAI}\\right)\\\\\n",
       "v_{G3 rb} &= \\kappa_{G3 rb} \\left(- K_{G3 C0} x_{G3 C0} + K_{G3 M} K_{R} x_{G3 M} x_{R}\\right)\\\\\n",
       "v_{G3 r1} &= \\kappa_{G3 r1} \\left(K_{A} K_{G3 C0} x_{A} x_{G3 C0} - K_{G3 C1} K_{G3 M} x_{G3 C1} x_{G3 M}\\right)\\\\\n",
       "v_{G3 r2} &= \\kappa_{G3 r2} \\left(K_{A} K_{G3 C1} x_{A} x_{G3 C1} - K_{G3 C2} x_{G3 C2}\\right)\\\\\n",
       "v_{G3 r3} &= \\kappa_{G3 r3} \\left(K_{A} K_{G3 C2} x_{A} x_{G3 C2} - K_{G3 C3} x_{G3 C3}\\right)\n",
       "\\end{align}\n",
       "\\begin{align}\n",
       "v_{G3 r4} &= \\kappa_{G3 r4} \\left(K_{A} K_{G3 C3} x_{A} x_{G3 C3} - K_{G3 C4} x_{G3 C4}\\right)\\\\\n",
       "v_{G3 r5} &= \\kappa_{G3 r5} \\left(K_{A} K_{G3 C4} x_{A} x_{G3 C4} - K_{G3 C5} x_{G3 C5}\\right)\\\\\n",
       "v_{G3 r6} &= \\kappa_{G3 r6} \\left(K_{A} K_{G3 C5} x_{A} x_{G3 C5} - K_{G3 C6} x_{G3 C6}\\right)\\\\\n",
       "v_{G3 r7} &= \\kappa_{G3 r7} \\left(K_{A} K_{G3 C6} x_{A} x_{G3 C6} - K_{G3 C7} x_{G3 C7}\\right)\\\\\n",
       "v_{G3 r8} &= \\kappa_{G3 r8} \\left(K_{A} K_{G3 C7} x_{A} x_{G3 C7} - K_{G3 C8} x_{G3 C8}\\right)\\\\\n",
       "v_{G3 rt} &= \\kappa_{G3 rt} \\left(K_{G3 C8} x_{G3 C8} - K_{P3} K_{R} x_{P3} x_{R}\\right)\\\\\n",
       "v_{G3 degM} &= \\kappa_{G3 degM} \\left(K_{G3 M} x_{G3 M} - K_{G3 XM} x_{G3 XM}\\right)\\\\\n",
       "v_{G3 degP} &= \\kappa_{G3 degP} \\left(- K_{G3 XP} x_{G3 XP} + K_{P3} x_{P3}\\right)\n",
       "\\end{align}\n"
      ],
      "text/plain": [
       "<IPython.core.display.Latex object>"
      ]
     },
     "execution_count": 14,
     "metadata": {},
     "output_type": "execute_result"
    }
   ],
   "source": [
    "## Flow\n",
    "disp.Latex(st.sprintvl(s,split=10))"
   ]
  },
  {
   "cell_type": "markdown",
   "id": "e6d71861-1b57-4083-8554-bb08d5bf7f88",
   "metadata": {},
   "source": [
    "## List of State Derivatives $\\dot{x}$ as Function of Flows $v$."
   ]
  },
  {
   "cell_type": "code",
   "execution_count": 15,
   "id": "7f189a7b-2f2d-4a6a-9a7a-a34a4c419c5b",
   "metadata": {
    "scrolled": true
   },
   "outputs": [
    {
     "data": {
      "text/latex": [
       "\\begin{align}\n",
       "\\dot{x}_{G1E} &= -  v_{G1Tc1} + v_{G1Tc2} -  v_{G1Tc3}\\\\\n",
       "\\dot{x}_{G1EA} &= v_{G1Tc1} -  v_{G1Tc2} -  v_{G1Tc4}\\\\\n",
       "\\dot{x}_{G1M} &= v_{G1Tc2} -  v_{G1rb} + v_{G1r1} -  v_{G1degM}\\\\\n",
       "\\dot{x}_{P2} &= -2 v_{G1Tc3} - 2 v_{G1Tc4} + v_{G2rt} -  v_{G2degP}\\\\\n",
       "\\dot{x}_{G1EI} &= v_{G1Tc3}\\\\\n",
       "\\dot{x}_{G1EAI} &= v_{G1Tc4}\\\\\n",
       "\\dot{x}_{R} &= -  v_{G1rb} + v_{G1rt} -  v_{G2rb} + v_{G2rt} -  v_{G3rb} + v_{G3rt}\\\\\n",
       "\\dot{x}_{G1C0} &= v_{G1rb} -  v_{G1r1}\\\\\n",
       "\\dot{x}_{G1C1} &= v_{G1r1} -  v_{G1r2}\\\\\n",
       "\\dot{x}_{G1C2} &= v_{G1r2} -  v_{G1r3}\n",
       "\\end{align}\n",
       "\\begin{align}\n",
       "\\dot{x}_{G1C3} &= v_{G1r3} -  v_{G1r4}\\\\\n",
       "\\dot{x}_{G1C4} &= v_{G1r4} -  v_{G1r5}\\\\\n",
       "\\dot{x}_{G1C5} &= v_{G1r5} -  v_{G1r6}\\\\\n",
       "\\dot{x}_{G1C6} &= v_{G1r6} -  v_{G1r7}\\\\\n",
       "\\dot{x}_{G1C7} &= v_{G1r7} -  v_{G1r8}\\\\\n",
       "\\dot{x}_{G1C8} &= v_{G1r8} -  v_{G1rt}\\\\\n",
       "\\dot{x}_{P1} &= v_{G1rt} -  v_{G1degP} - 2 v_{G3Tc3} - 2 v_{G3Tc4}\\\\\n",
       "\\dot{x}_{G2E} &= -  v_{G2Tc1} + v_{G2Tc2} -  v_{G2Tc3}\\\\\n",
       "\\dot{x}_{G2EA} &= v_{G2Tc1} -  v_{G2Tc2} -  v_{G2Tc4}\\\\\n",
       "\\dot{x}_{G2M} &= v_{G2Tc2} -  v_{G2rb} + v_{G2r1} -  v_{G2degM}\n",
       "\\end{align}\n",
       "\\begin{align}\n",
       "\\dot{x}_{P3} &= -2 v_{G2Tc3} - 2 v_{G2Tc4} + v_{G3rt} -  v_{G3degP}\\\\\n",
       "\\dot{x}_{G2EI} &= v_{G2Tc3}\\\\\n",
       "\\dot{x}_{G2EAI} &= v_{G2Tc4}\\\\\n",
       "\\dot{x}_{G2C0} &= v_{G2rb} -  v_{G2r1}\\\\\n",
       "\\dot{x}_{G2C1} &= v_{G2r1} -  v_{G2r2}\\\\\n",
       "\\dot{x}_{G2C2} &= v_{G2r2} -  v_{G2r3}\\\\\n",
       "\\dot{x}_{G2C3} &= v_{G2r3} -  v_{G2r4}\\\\\n",
       "\\dot{x}_{G2C4} &= v_{G2r4} -  v_{G2r5}\\\\\n",
       "\\dot{x}_{G2C5} &= v_{G2r5} -  v_{G2r6}\\\\\n",
       "\\dot{x}_{G2C6} &= v_{G2r6} -  v_{G2r7}\n",
       "\\end{align}\n",
       "\\begin{align}\n",
       "\\dot{x}_{G2C7} &= v_{G2r7} -  v_{G2r8}\\\\\n",
       "\\dot{x}_{G2C8} &= v_{G2r8} -  v_{G2rt}\\\\\n",
       "\\dot{x}_{G3E} &= -  v_{G3Tc1} + v_{G3Tc2} -  v_{G3Tc3}\\\\\n",
       "\\dot{x}_{G3EA} &= v_{G3Tc1} -  v_{G3Tc2} -  v_{G3Tc4}\\\\\n",
       "\\dot{x}_{G3M} &= v_{G3Tc2} -  v_{G3rb} + v_{G3r1} -  v_{G3degM}\\\\\n",
       "\\dot{x}_{G3EI} &= v_{G3Tc3}\\\\\n",
       "\\dot{x}_{G3EAI} &= v_{G3Tc4}\\\\\n",
       "\\dot{x}_{G3C0} &= v_{G3rb} -  v_{G3r1}\\\\\n",
       "\\dot{x}_{G3C1} &= v_{G3r1} -  v_{G3r2}\\\\\n",
       "\\dot{x}_{G3C2} &= v_{G3r2} -  v_{G3r3}\n",
       "\\end{align}\n",
       "\\begin{align}\n",
       "\\dot{x}_{G3C3} &= v_{G3r3} -  v_{G3r4}\\\\\n",
       "\\dot{x}_{G3C4} &= v_{G3r4} -  v_{G3r5}\\\\\n",
       "\\dot{x}_{G3C5} &= v_{G3r5} -  v_{G3r6}\\\\\n",
       "\\dot{x}_{G3C6} &= v_{G3r6} -  v_{G3r7}\\\\\n",
       "\\dot{x}_{G3C7} &= v_{G3r7} -  v_{G3r8}\\\\\n",
       "\\dot{x}_{G3C8} &= v_{G3r8} -  v_{G3rt}\n",
       "\\end{align}\n"
      ],
      "text/plain": [
       "<IPython.core.display.Latex object>"
      ]
     },
     "execution_count": 15,
     "metadata": {},
     "output_type": "execute_result"
    }
   ],
   "source": [
    "## State equations\n",
    "eqns = st.sprintdxl(s,sc,split=split)\n",
    "disp.Latex(eqns)"
   ]
  },
  {
   "cell_type": "markdown",
   "id": "2cc2b758-dd48-47a9-8d46-2c12c5669988",
   "metadata": {},
   "source": [
    "## List of Parameters."
   ]
  },
  {
   "cell_type": "code",
   "execution_count": 16,
   "id": "1efa545e-cbc7-4c73-88ea-46a5d7d2cb8c",
   "metadata": {},
   "outputs": [
    {
     "data": {
      "text/latex": [
       "\\begin{align}\n",
       "K_{A} &= 485.2\\\\\n",
       "K_{G1E} &= 1\\\\\n",
       "K_{G1EA} &= 366.2\\\\\n",
       "K_{G1M} &= 1\\\\\n",
       "K_{P2} &= 4.54e-05\\\\\n",
       "K_{G1EI} &= 9.358e-10\\\\\n",
       "K_{G1EAI} &= 3.427e-07\\\\\n",
       "K_{R} &= 1\\\\\n",
       "K_{G1C0} &= 1\\\\\n",
       "K_{G1C1} &= 3.49\n",
       "\\end{align}\n",
       "\\begin{align}\n",
       "K_{G1C2} &= 12.18\\\\\n",
       "K_{G1C3} &= 42.52\\\\\n",
       "K_{G1C4} &= 148.4\\\\\n",
       "K_{G1C5} &= 518\\\\\n",
       "K_{G1C6} &= 1808\\\\\n",
       "K_{G1C7} &= 6311\\\\\n",
       "K_{G1C8} &= 2.203e+04\\\\\n",
       "K_{P1} &= 4.54e-05\\\\\n",
       "K_{G1XM} &= 1e-12\\\\\n",
       "K_{G1XP} &= 1e-16\n",
       "\\end{align}\n",
       "\\begin{align}\n",
       "K_{G2E} &= 1\\\\\n",
       "K_{G2EA} &= 366.2\\\\\n",
       "K_{G2M} &= 1\\\\\n",
       "K_{P3} &= 4.54e-05\\\\\n",
       "K_{G2EI} &= 9.358e-10\\\\\n",
       "K_{G2EAI} &= 3.427e-07\\\\\n",
       "K_{G2C0} &= 1\\\\\n",
       "K_{G2C1} &= 3.49\\\\\n",
       "K_{G2C2} &= 12.18\\\\\n",
       "K_{G2C3} &= 42.52\n",
       "\\end{align}\n",
       "\\begin{align}\n",
       "K_{G2C4} &= 148.4\\\\\n",
       "K_{G2C5} &= 518\\\\\n",
       "K_{G2C6} &= 1808\\\\\n",
       "K_{G2C7} &= 6311\\\\\n",
       "K_{G2C8} &= 2.203e+04\\\\\n",
       "K_{G2XM} &= 1e-12\\\\\n",
       "K_{G2XP} &= 1e-16\\\\\n",
       "K_{G3E} &= 1\\\\\n",
       "K_{G3EA} &= 366.2\\\\\n",
       "K_{G3M} &= 1\n",
       "\\end{align}\n",
       "\\begin{align}\n",
       "K_{G3EI} &= 9.358e-10\\\\\n",
       "K_{G3EAI} &= 3.427e-07\\\\\n",
       "K_{G3C0} &= 1\\\\\n",
       "K_{G3C1} &= 3.49\\\\\n",
       "K_{G3C2} &= 12.18\\\\\n",
       "K_{G3C3} &= 42.52\\\\\n",
       "K_{G3C4} &= 148.4\\\\\n",
       "K_{G3C5} &= 518\\\\\n",
       "K_{G3C6} &= 1808\\\\\n",
       "K_{G3C7} &= 6311\n",
       "\\end{align}\n",
       "\\begin{align}\n",
       "K_{G3C8} &= 2.203e+04\\\\\n",
       "K_{G3XM} &= 1e-12\\\\\n",
       "K_{G3XP} &= 1e-16\\\\\n",
       "\\kappa_{G1Tc1} &= 30.85\\\\\n",
       "\\kappa_{G1Tc2} &= 0.0113\\\\\n",
       "\\kappa_{G1Tc3} &= 1e+06\\\\\n",
       "\\kappa_{G1Tc4} &= 1e+06\\\\\n",
       "\\kappa_{G1rb} &= 0.01\\\\\n",
       "\\kappa_{G1r1} &= 1.039e-05\\\\\n",
       "\\kappa_{G1r2} &= 2.976e-06\n",
       "\\end{align}\n",
       "\\begin{align}\n",
       "\\kappa_{G1r3} &= 8.527e-07\\\\\n",
       "\\kappa_{G1r4} &= 2.443e-07\\\\\n",
       "\\kappa_{G1r5} &= 7e-08\\\\\n",
       "\\kappa_{G1r6} &= 2.005e-08\\\\\n",
       "\\kappa_{G1r7} &= 5.746e-09\\\\\n",
       "\\kappa_{G1r8} &= 1.646e-09\\\\\n",
       "\\kappa_{G1rt} &= 22.88\\\\\n",
       "\\kappa_{G1degM} &= 0.3466\\\\\n",
       "\\kappa_{G1degP} &= 3817\\\\\n",
       "\\kappa_{G2Tc1} &= 30.85\n",
       "\\end{align}\n",
       "\\begin{align}\n",
       "\\kappa_{G2Tc2} &= 0.0113\\\\\n",
       "\\kappa_{G2Tc3} &= 1e+06\\\\\n",
       "\\kappa_{G2Tc4} &= 1e+06\\\\\n",
       "\\kappa_{G2rb} &= 0.01\\\\\n",
       "\\kappa_{G2r1} &= 1.039e-05\\\\\n",
       "\\kappa_{G2r2} &= 2.976e-06\\\\\n",
       "\\kappa_{G2r3} &= 8.527e-07\\\\\n",
       "\\kappa_{G2r4} &= 2.443e-07\\\\\n",
       "\\kappa_{G2r5} &= 7e-08\\\\\n",
       "\\kappa_{G2r6} &= 2.005e-08\n",
       "\\end{align}\n",
       "\\begin{align}\n",
       "\\kappa_{G2r7} &= 5.746e-09\\\\\n",
       "\\kappa_{G2r8} &= 1.646e-09\\\\\n",
       "\\kappa_{G2rt} &= 22.88\\\\\n",
       "\\kappa_{G2degM} &= 0.3466\\\\\n",
       "\\kappa_{G2degP} &= 3817\\\\\n",
       "\\kappa_{G3Tc1} &= 30.85\\\\\n",
       "\\kappa_{G3Tc2} &= 0.0113\\\\\n",
       "\\kappa_{G3Tc3} &= 1e+06\\\\\n",
       "\\kappa_{G3Tc4} &= 1e+06\\\\\n",
       "\\kappa_{G3rb} &= 0.01\n",
       "\\end{align}\n",
       "\\begin{align}\n",
       "\\kappa_{G3r1} &= 1.039e-05\\\\\n",
       "\\kappa_{G3r2} &= 2.976e-06\\\\\n",
       "\\kappa_{G3r3} &= 8.527e-07\\\\\n",
       "\\kappa_{G3r4} &= 2.443e-07\\\\\n",
       "\\kappa_{G3r5} &= 7e-08\\\\\n",
       "\\kappa_{G3r6} &= 2.005e-08\\\\\n",
       "\\kappa_{G3r7} &= 5.746e-09\\\\\n",
       "\\kappa_{G3r8} &= 1.646e-09\\\\\n",
       "\\kappa_{G3rt} &= 22.88\\\\\n",
       "\\kappa_{G3degM} &= 0.3466\n",
       "\\end{align}\n",
       "\\begin{align}\n",
       "\\kappa_{G3degP} &= 3817\n",
       "\\end{align}\n"
      ],
      "text/plain": [
       "<IPython.core.display.Latex object>"
      ]
     },
     "execution_count": 16,
     "metadata": {},
     "output_type": "execute_result"
    }
   ],
   "source": [
    "## Parameters\n",
    "pars = st.sprintparl(parameter)\n",
    "disp.Latex(pars)"
   ]
  }
 ],
 "metadata": {
  "kernelspec": {
   "display_name": "Python 3 (ipykernel)",
   "language": "python",
   "name": "python3"
  },
  "language_info": {
   "codemirror_mode": {
    "name": "ipython",
    "version": 3
   },
   "file_extension": ".py",
   "mimetype": "text/x-python",
   "name": "python",
   "nbconvert_exporter": "python",
   "pygments_lexer": "ipython3",
   "version": "3.8.0"
  }
 },
 "nbformat": 4,
 "nbformat_minor": 5
}
